{
 "cells": [
  {
   "cell_type": "code",
   "execution_count": 1,
   "metadata": {},
   "outputs": [
    {
     "ename": "WindowError",
     "evalue": "width is required when providing negative indexes",
     "output_type": "error",
     "traceback": [
      "\u001b[1;31m---------------------------------------------------------------------------\u001b[0m",
      "\u001b[1;31mWindowError\u001b[0m                               Traceback (most recent call last)",
      "Cell \u001b[1;32mIn[1], line 19\u001b[0m\n\u001b[0;32m     16\u001b[0m roi \u001b[38;5;241m=\u001b[39m gpd\u001b[38;5;241m.\u001b[39mread_file(VECTOR_FILE)\u001b[38;5;241m.\u001b[39mto_crs(\u001b[38;5;241m3310\u001b[39m)\n\u001b[0;32m     17\u001b[0m roi \u001b[38;5;241m=\u001b[39m roi\u001b[38;5;241m.\u001b[39mdissolve()\n\u001b[1;32m---> 19\u001b[0m \u001b[43malign_two_rasters\u001b[49m\u001b[43m(\u001b[49m\n\u001b[0;32m     20\u001b[0m \u001b[43m    \u001b[49m\u001b[43mFIXED_FILENAME\u001b[49m\u001b[43m,\u001b[49m\n\u001b[0;32m     21\u001b[0m \u001b[43m    \u001b[49m\u001b[43mMOVING_FILENAME\u001b[49m\u001b[43m,\u001b[49m\n\u001b[0;32m     22\u001b[0m \u001b[43m    \u001b[49m\u001b[43maligner_alg\u001b[49m\u001b[38;5;241;43m=\u001b[39;49m\u001b[43mcv2_feature_matcher\u001b[49m\u001b[43m,\u001b[49m\n\u001b[0;32m     23\u001b[0m \u001b[43m    \u001b[49m\u001b[43mregion_of_interest\u001b[49m\u001b[38;5;241;43m=\u001b[39;49m\u001b[43mroi\u001b[49m\u001b[43m,\u001b[49m\n\u001b[0;32m     24\u001b[0m \u001b[43m    \u001b[49m\u001b[43mtarget_GSD\u001b[49m\u001b[38;5;241;43m=\u001b[39;49m\u001b[43mTARGET_GSD\u001b[49m\u001b[43m,\u001b[49m\n\u001b[0;32m     25\u001b[0m \u001b[43m    \u001b[49m\u001b[43mvis_chips\u001b[49m\u001b[38;5;241;43m=\u001b[39;49m\u001b[38;5;28;43;01mTrue\u001b[39;49;00m\u001b[43m,\u001b[49m\n\u001b[0;32m     26\u001b[0m \u001b[43m)\u001b[49m\n",
      "File \u001b[1;32m~\\dev\\geospatial-data-registration-toolkit\\GDRT\\raster\\register_images.py:69\u001b[0m, in \u001b[0;36malign_two_rasters\u001b[1;34m(fixed_filename, moving_filename, aligner_alg, region_of_interest, target_GSD, aligner_kwargs, grayscale, vis_chips, vis_kwargs)\u001b[0m\n\u001b[0;32m     63\u001b[0m         working_CRS \u001b[38;5;241m=\u001b[39m get_projected_CRS(\n\u001b[0;32m     64\u001b[0m             lat\u001b[38;5;241m=\u001b[39mfixed_dataset\u001b[38;5;241m.\u001b[39mtransform\u001b[38;5;241m.\u001b[39mc, lon\u001b[38;5;241m=\u001b[39mfixed_dataset\u001b[38;5;241m.\u001b[39mtransform\u001b[38;5;241m.\u001b[39mf\n\u001b[0;32m     65\u001b[0m         )\n\u001b[0;32m     67\u001b[0m \u001b[38;5;66;03m# Extract an image chip from each input image, corresponding to the region of interest\u001b[39;00m\n\u001b[0;32m     68\u001b[0m \u001b[38;5;66;03m# TODO make sure that a None ROI loads the whole image\u001b[39;00m\n\u001b[1;32m---> 69\u001b[0m fixed_chip, fixed_transform_dict \u001b[38;5;241m=\u001b[39m \u001b[43mload_geospatial_crop\u001b[49m\u001b[43m(\u001b[49m\n\u001b[0;32m     70\u001b[0m \u001b[43m    \u001b[49m\u001b[43mfixed_filename\u001b[49m\u001b[43m,\u001b[49m\n\u001b[0;32m     71\u001b[0m \u001b[43m    \u001b[49m\u001b[43mregion_of_interest\u001b[49m\u001b[38;5;241;43m=\u001b[39;49m\u001b[43mregion_of_interest\u001b[49m\u001b[43m,\u001b[49m\n\u001b[0;32m     72\u001b[0m \u001b[43m    \u001b[49m\u001b[43mtarget_CRS\u001b[49m\u001b[38;5;241;43m=\u001b[39;49m\u001b[43mworking_CRS\u001b[49m\u001b[43m,\u001b[49m\n\u001b[0;32m     73\u001b[0m \u001b[43m    \u001b[49m\u001b[43mtarget_GSD\u001b[49m\u001b[38;5;241;43m=\u001b[39;49m\u001b[43mtarget_GSD\u001b[49m\u001b[43m,\u001b[49m\n\u001b[0;32m     74\u001b[0m \u001b[43m    \u001b[49m\u001b[43mgrayscale\u001b[49m\u001b[38;5;241;43m=\u001b[39;49m\u001b[43mgrayscale\u001b[49m\u001b[43m,\u001b[49m\n\u001b[0;32m     75\u001b[0m \u001b[43m\u001b[49m\u001b[43m)\u001b[49m\n\u001b[0;32m     76\u001b[0m moving_chip, moving_transform_dict \u001b[38;5;241m=\u001b[39m load_geospatial_crop(\n\u001b[0;32m     77\u001b[0m     moving_filename,\n\u001b[0;32m     78\u001b[0m     region_of_interest\u001b[38;5;241m=\u001b[39mregion_of_interest,\n\u001b[1;32m   (...)\u001b[0m\n\u001b[0;32m     81\u001b[0m     grayscale\u001b[38;5;241m=\u001b[39mgrayscale,\n\u001b[0;32m     82\u001b[0m )\n\u001b[0;32m     84\u001b[0m \u001b[38;5;66;03m# Show the two crops before alignment\u001b[39;00m\n",
      "File \u001b[1;32m~\\dev\\geospatial-data-registration-toolkit\\GDRT\\raster\\utils.py:105\u001b[0m, in \u001b[0;36mload_geospatial_crop\u001b[1;34m(input_file, region_of_interest, target_CRS, target_GSD, squeeze, grayscale)\u001b[0m\n\u001b[0;32m    100\u001b[0m ((max_px, min_px), (min_py, max_py)) \u001b[38;5;241m=\u001b[39m dataset\u001b[38;5;241m.\u001b[39mindex(\n\u001b[0;32m    101\u001b[0m     [minx, maxx], [miny, maxy]\n\u001b[0;32m    102\u001b[0m )\n\u001b[0;32m    104\u001b[0m \u001b[38;5;66;03m# TODO figure out why x width is swapped\u001b[39;00m\n\u001b[1;32m--> 105\u001b[0m window \u001b[38;5;241m=\u001b[39m \u001b[43mrio\u001b[49m\u001b[38;5;241;43m.\u001b[39;49m\u001b[43mwindows\u001b[49m\u001b[38;5;241;43m.\u001b[39;49m\u001b[43mWindow\u001b[49m\u001b[38;5;241;43m.\u001b[39;49m\u001b[43mfrom_slices\u001b[49m\u001b[43m(\u001b[49m\u001b[43m(\u001b[49m\u001b[43mmin_px\u001b[49m\u001b[43m,\u001b[49m\u001b[43m \u001b[49m\u001b[43mmax_px\u001b[49m\u001b[43m)\u001b[49m\u001b[43m,\u001b[49m\u001b[43m \u001b[49m\u001b[43m(\u001b[49m\u001b[43mmin_py\u001b[49m\u001b[43m,\u001b[49m\u001b[43m \u001b[49m\u001b[43mmax_py\u001b[49m\u001b[43m)\u001b[49m\u001b[43m)\u001b[49m\n\u001b[0;32m    106\u001b[0m out_shape \u001b[38;5;241m=\u001b[39m (\n\u001b[0;32m    107\u001b[0m     dataset\u001b[38;5;241m.\u001b[39mcount,\n\u001b[0;32m    108\u001b[0m     \u001b[38;5;28mint\u001b[39m(window\u001b[38;5;241m.\u001b[39mheight \u001b[38;5;241m*\u001b[39m scale_factor),\n\u001b[0;32m    109\u001b[0m     \u001b[38;5;28mint\u001b[39m(window\u001b[38;5;241m.\u001b[39mwidth \u001b[38;5;241m*\u001b[39m scale_factor),\n\u001b[0;32m    110\u001b[0m )\n\u001b[0;32m    112\u001b[0m window_raster \u001b[38;5;241m=\u001b[39m dataset\u001b[38;5;241m.\u001b[39mread(\n\u001b[0;32m    113\u001b[0m     window\u001b[38;5;241m=\u001b[39mwindow,\n\u001b[0;32m    114\u001b[0m     out_shape\u001b[38;5;241m=\u001b[39mout_shape,\n\u001b[0;32m    115\u001b[0m     resampling\u001b[38;5;241m=\u001b[39mwarp\u001b[38;5;241m.\u001b[39mResampling\u001b[38;5;241m.\u001b[39mbilinear,\n\u001b[0;32m    116\u001b[0m )\n",
      "File \u001b[1;32mc:\\Users\\david\\anaconda3\\envs\\GDRT\\lib\\site-packages\\rasterio\\windows.py:694\u001b[0m, in \u001b[0;36mWindow.from_slices\u001b[1;34m(cls, rows, cols, height, width, boundless)\u001b[0m\n\u001b[0;32m    692\u001b[0m \u001b[38;5;28;01mif\u001b[39;00m (col_off \u001b[38;5;241m<\u001b[39m \u001b[38;5;241m0\u001b[39m \u001b[38;5;129;01mor\u001b[39;00m col_stop \u001b[38;5;241m<\u001b[39m \u001b[38;5;241m0\u001b[39m):\n\u001b[0;32m    693\u001b[0m     \u001b[38;5;28;01mif\u001b[39;00m width \u001b[38;5;241m<\u001b[39m \u001b[38;5;241m0\u001b[39m:\n\u001b[1;32m--> 694\u001b[0m         \u001b[38;5;28;01mraise\u001b[39;00m WindowError(\u001b[38;5;124m\"\u001b[39m\u001b[38;5;124mwidth is required when providing \u001b[39m\u001b[38;5;124m\"\u001b[39m\n\u001b[0;32m    695\u001b[0m                           \u001b[38;5;124m\"\u001b[39m\u001b[38;5;124mnegative indexes\u001b[39m\u001b[38;5;124m\"\u001b[39m)\n\u001b[0;32m    697\u001b[0m     \u001b[38;5;28;01mif\u001b[39;00m col_off \u001b[38;5;241m<\u001b[39m \u001b[38;5;241m0\u001b[39m:\n\u001b[0;32m    698\u001b[0m         col_off \u001b[38;5;241m+\u001b[39m\u001b[38;5;241m=\u001b[39m width\n",
      "\u001b[1;31mWindowError\u001b[0m: width is required when providing negative indexes"
     ]
    }
   ],
   "source": [
    "import geopandas as gpd\n",
    "\n",
    "from GDRT.raster.register_images import align_two_rasters\n",
    "from GDRT.raster.registration_algorithms import cv2_feature_matcher\n",
    "\n",
    "\n",
    "FIXED_FILENAME = \"C:\\\\Users\\\\david\\\\Downloads\\\\orthomosaic_580.tif\"\n",
    "MOVING_FILENAME = \"C:\\\\Users\\\\david\\\\Downloads\\\\orthomosaic_921.tif\"\n",
    "OUTFILE = \"C:\\\\Users\\\\david\\\\scratch\\\\registration\\orthomosaic_921_shifted.tif\"\n",
    "VECTOR_FILE = \"C:\\\\Users\\\\david\\\\scratch\\\\registration\\ROI.gpkg\"\n",
    "\n",
    "BUFFER_METERS = 50\n",
    "TARGET_GSD = 0.25\n",
    "\n",
    "# TODO Convert to the appropriate CRS\n",
    "roi = gpd.read_file(VECTOR_FILE).to_crs(3310)\n",
    "roi = roi.dissolve()\n",
    "\n",
    "align_two_rasters(\n",
    "    FIXED_FILENAME,\n",
    "    MOVING_FILENAME,\n",
    "    aligner_alg=cv2_feature_matcher,\n",
    "    region_of_interest=roi,\n",
    "    target_GSD=TARGET_GSD,\n",
    "    vis_chips=True,\n",
    ")"
   ]
  }
 ],
 "metadata": {
  "kernelspec": {
   "display_name": "GDRT",
   "language": "python",
   "name": "python3"
  },
  "language_info": {
   "codemirror_mode": {
    "name": "ipython",
    "version": 3
   },
   "file_extension": ".py",
   "mimetype": "text/x-python",
   "name": "python",
   "nbconvert_exporter": "python",
   "pygments_lexer": "ipython3",
   "version": "3.10.16"
  }
 },
 "nbformat": 4,
 "nbformat_minor": 2
}
