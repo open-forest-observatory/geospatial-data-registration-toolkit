{
 "cells": [
  {
   "cell_type": "code",
   "execution_count": null,
   "metadata": {},
   "outputs": [],
   "source": [
    "import geopandas as gpd\n",
    "\n",
    "from GDRT.raster.image_registration import align_two_rasters\n",
    "\n",
    "\n",
    "FIXED_FILENAME = \"/ofo-share/str-disp_drone-data-partial/cross-site/orthos/chips.tif\"\n",
    "MOVING_FILENAME = \"/ofo-share/scratch-david/organized-str-disp-MVMT-experiments/per_site_processing/chips/02_photogrammetry/exports/chips_80m_only/chips_80m_only_20240102T0531_ortho_mesh.tif\"\n",
    "OUTFILE = \"/ofo-share/repos-david/geospatial-data-registration-toolkit/scratch/chips_80m_only_20240102T0531_ortho_mesh_updated_georef.tif\"\n",
    "VECTOR_FILE = \"/ofo-share/scratch-david/organized-str-disp-MVMT-experiments/field_ref/crowns_drone_w_field_data.geojson\"\n",
    "\n",
    "BUFFER_METERS = 50\n",
    "TARGET_GSD = 0.1\n",
    "\n",
    "roi = gpd.read_file(VECTOR_FILE).query(\"fire=='chips'\")\n",
    "roi = roi.dissolve().buffer(BUFFER_METERS)\n",
    "\n",
    "align_two_rasters(\n",
    "    FIXED_FILENAME, MOVING_FILENAME, output_filename=OUTFILE,region_of_interest=roi, target_GSD=TARGET_GSD, vis_chips=True\n",
    ")"
   ]
  }
 ],
 "metadata": {
  "kernelspec": {
   "display_name": "GDRT",
   "language": "python",
   "name": "python3"
  },
  "language_info": {
   "codemirror_mode": {
    "name": "ipython",
    "version": 3
   },
   "file_extension": ".py",
   "mimetype": "text/x-python",
   "name": "python",
   "nbconvert_exporter": "python",
   "pygments_lexer": "ipython3",
   "version": "3.9.18"
  }
 },
 "nbformat": 4,
 "nbformat_minor": 2
}
