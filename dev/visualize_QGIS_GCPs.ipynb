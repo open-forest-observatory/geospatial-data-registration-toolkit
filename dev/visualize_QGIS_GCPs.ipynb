{
 "cells": [
  {
   "cell_type": "code",
   "execution_count": 78,
   "metadata": {},
   "outputs": [],
   "source": [
    "import pandas as pd\n",
    "import geopandas as gpd\n",
    "import matplotlib.pyplot as plt\n",
    "\n",
    "from pathlib import Path"
   ]
  },
  {
   "cell_type": "code",
   "execution_count": 79,
   "metadata": {},
   "outputs": [],
   "source": [
    "GCP_FILES = [\"01ON630.tif.points\", \"02ON919.tif.points\", \"03ON921.tif.points\", \"04ON618.tif.points\", \"05ON612.tif.points\",  \"06ON911.tif.points\"]\n",
    "GCP_FOLDER = \"/ofo-share/repos-david/geospatial-data-registration-toolkit/scratch/GCPs\"\n",
    "GCP_ID = 2 # Which file to select\n",
    "\n",
    "GCP_FILEPATH = Path(GCP_FOLDER,GCP_FILES[GCP_ID])"
   ]
  },
  {
   "cell_type": "code",
   "execution_count": 80,
   "metadata": {},
   "outputs": [],
   "source": [
    "df = pd.read_csv(GCP_FILEPATH, delimiter=\",\", skiprows=1)"
   ]
  },
  {
   "cell_type": "code",
   "execution_count": 81,
   "metadata": {},
   "outputs": [],
   "source": [
    "map_points = gpd.GeoSeries.from_xy(x = df.mapX, y=df.mapY, crs=3310)\n",
    "source_points = gpd.GeoSeries.from_xy(x = df.sourceX, y=df.sourceY, crs=3310)"
   ]
  },
  {
   "cell_type": "code",
   "execution_count": null,
   "metadata": {},
   "outputs": [],
   "source": [
    "_, ax = plt.subplots()\n",
    "\n",
    "map_points.plot(ax=ax)\n",
    "source_points.plot(ax=ax)\n",
    "plt.show()"
   ]
  }
 ],
 "metadata": {
  "kernelspec": {
   "display_name": "GDRT",
   "language": "python",
   "name": "python3"
  },
  "language_info": {
   "codemirror_mode": {
    "name": "ipython",
    "version": 3
   },
   "file_extension": ".py",
   "mimetype": "text/x-python",
   "name": "python",
   "nbconvert_exporter": "python",
   "pygments_lexer": "ipython3",
   "version": "3.10.14"
  }
 },
 "nbformat": 4,
 "nbformat_minor": 2
}
